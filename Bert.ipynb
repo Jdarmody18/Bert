{
 "cells": [
  {
   "cell_type": "code",
   "execution_count": 171,
   "metadata": {},
   "outputs": [],
   "source": [
    "# Importing packages\n",
    "import json\n",
    "import numpy as np\n",
    "import pandas as pd\n",
    "import os\n",
    "# Load Basic Model\n",
    "import codecs\n",
    "from keras_bert import load_trained_model_from_checkpoint\n",
    "# Convert Data to Array\n",
    "from tqdm import tqdm\n",
    "from keras_bert import Tokenizer\n",
    "# Build Custom Model\n",
    "from tensorflow.python import keras\n",
    "from keras_bert import AdamWarmup, calc_train_steps"
   ]
  },
  {
   "cell_type": "code",
   "execution_count": 4,
   "metadata": {},
   "outputs": [],
   "source": [
    "# Reading in JSON file and putting into a list\n",
    "runway = []\n",
    "for line in open(\"renttherunway_final_data.json\", 'r'):\n",
    "    runway.append(json.loads(line))"
   ]
  },
  {
   "cell_type": "code",
   "execution_count": 17,
   "metadata": {},
   "outputs": [
    {
     "data": {
      "text/plain": [
       "{'age': '28',\n",
       " 'body type': 'hourglass',\n",
       " 'bust size': '34d',\n",
       " 'category': 'romper',\n",
       " 'fit': 'fit',\n",
       " 'height': '5\\' 8\"',\n",
       " 'item_id': '2260466',\n",
       " 'rating': '10',\n",
       " 'rented for': 'vacation',\n",
       " 'review_date': 'April 20, 2016',\n",
       " 'review_summary': 'So many compliments!',\n",
       " 'review_text': \"An adorable romper! Belt and zipper were a little hard to navigate in a full day of wear/bathroom use, but that's to be expected. Wish it had pockets, but other than that-- absolutely perfect! I got a million compliments.\",\n",
       " 'size': 14,\n",
       " 'user_id': '420272',\n",
       " 'weight': '137lbs'}"
      ]
     },
     "execution_count": 17,
     "metadata": {},
     "output_type": "execute_result"
    }
   ],
   "source": [
    "# Looking at the structure of the data\n",
    "# We will train using the review text as feature and rating as label\n",
    "runway[0]"
   ]
  },
  {
   "cell_type": "code",
   "execution_count": 18,
   "metadata": {},
   "outputs": [
    {
     "data": {
      "text/plain": [
       "192544"
      ]
     },
     "execution_count": 18,
     "metadata": {},
     "output_type": "execute_result"
    }
   ],
   "source": [
    "# Looking at the length of the dataset\n",
    "len(runway)"
   ]
  },
  {
   "cell_type": "code",
   "execution_count": 64,
   "metadata": {},
   "outputs": [],
   "source": [
    "# Isolating labels\n",
    "rating = []\n",
    "for i in range(192544):\n",
    "    rating.append(runway[i]['rating'])"
   ]
  },
  {
   "cell_type": "code",
   "execution_count": 23,
   "metadata": {},
   "outputs": [],
   "source": [
    "# Isolating features\n",
    "review_text = []\n",
    "for j in range(192544):\n",
    "    review_text.append(runway[j]['review_text'])"
   ]
  },
  {
   "cell_type": "code",
   "execution_count": 113,
   "metadata": {},
   "outputs": [],
   "source": [
    "# Defining a preprocessing function for the review text\n",
    "def split_to_tokens(text):\n",
    "    '''Function takes in text and preprocesses it for use in Bert'''\n",
    "    for x in string.punctuation:\n",
    "        text = [item.replace(x, '') for item in text]\n",
    "    for y in string.digits:\n",
    "        text = [item.replace(y, '8') for item in text]\n",
    "    text = [item.lower() for item in text]\n",
    "    return(text)"
   ]
  },
  {
   "cell_type": "code",
   "execution_count": 114,
   "metadata": {},
   "outputs": [
    {
     "data": {
      "text/plain": [
       "['an adorable romper belt and zipper were a little hard to navigate in a full day of wearbathroom use but thats to be expected wish it had pockets but other than that absolutely perfect i got a million compliments',\n",
       " 'i rented this dress for a photo shoot the theme was hollywood glam and big beautiful hats the dress was very comfortable and easy to move around in it is definitely on my list to rent again for another formal event ',\n",
       " 'this hugged in all the right places it was a perfect dress for my event and i received so many compliments on it not to mention customer service was great getting this to me in less than 88 hours',\n",
       " 'i rented this for my companys black tie awards banquet  i liked that this dress was short but was a little fancier with the sequins i generally dont care for long dresses  i would describe the color as more rose gold than yellow gold  i have blonde hair and fair skin and the color was very flattering  this is a very forgiving dress its form fitting without making you feel like youre squeezed into it  i would rent this one again  highly recommend']"
      ]
     },
     "execution_count": 114,
     "metadata": {},
     "output_type": "execute_result"
    }
   ],
   "source": [
    "# Preprocessing the review text\n",
    "review_processed = split_to_tokens(review_text)\n",
    "review_processed[0:4]"
   ]
  },
  {
   "cell_type": "code",
   "execution_count": 46,
   "metadata": {},
   "outputs": [
    {
     "data": {
      "text/plain": [
       "{'10', '2', '4', '6', '8', None}"
      ]
     },
     "execution_count": 46,
     "metadata": {},
     "output_type": "execute_result"
    }
   ],
   "source": [
    "# Looking at the different categories of ratings available\n",
    "set(rating_look)"
   ]
  },
  {
   "cell_type": "code",
   "execution_count": 66,
   "metadata": {},
   "outputs": [
    {
     "data": {
      "text/html": [
       "<div>\n",
       "<style scoped>\n",
       "    .dataframe tbody tr th:only-of-type {\n",
       "        vertical-align: middle;\n",
       "    }\n",
       "\n",
       "    .dataframe tbody tr th {\n",
       "        vertical-align: top;\n",
       "    }\n",
       "\n",
       "    .dataframe thead th {\n",
       "        text-align: right;\n",
       "    }\n",
       "</style>\n",
       "<table border=\"1\" class=\"dataframe\">\n",
       "  <thead>\n",
       "    <tr style=\"text-align: right;\">\n",
       "      <th></th>\n",
       "      <th>Text</th>\n",
       "      <th>10</th>\n",
       "      <th>2</th>\n",
       "      <th>4</th>\n",
       "      <th>6</th>\n",
       "      <th>8</th>\n",
       "    </tr>\n",
       "  </thead>\n",
       "  <tbody>\n",
       "    <tr>\n",
       "      <th>0</th>\n",
       "      <td>An adorable romper! Belt and zipper were a lit...</td>\n",
       "      <td>1</td>\n",
       "      <td>0</td>\n",
       "      <td>0</td>\n",
       "      <td>0</td>\n",
       "      <td>0</td>\n",
       "    </tr>\n",
       "    <tr>\n",
       "      <th>1</th>\n",
       "      <td>I rented this dress for a photo shoot. The the...</td>\n",
       "      <td>1</td>\n",
       "      <td>0</td>\n",
       "      <td>0</td>\n",
       "      <td>0</td>\n",
       "      <td>0</td>\n",
       "    </tr>\n",
       "    <tr>\n",
       "      <th>2</th>\n",
       "      <td>This hugged in all the right places! It was a ...</td>\n",
       "      <td>1</td>\n",
       "      <td>0</td>\n",
       "      <td>0</td>\n",
       "      <td>0</td>\n",
       "      <td>0</td>\n",
       "    </tr>\n",
       "    <tr>\n",
       "      <th>3</th>\n",
       "      <td>I rented this for my company's black tie award...</td>\n",
       "      <td>0</td>\n",
       "      <td>0</td>\n",
       "      <td>0</td>\n",
       "      <td>0</td>\n",
       "      <td>1</td>\n",
       "    </tr>\n",
       "    <tr>\n",
       "      <th>4</th>\n",
       "      <td>I have always been petite in my upper body and...</td>\n",
       "      <td>1</td>\n",
       "      <td>0</td>\n",
       "      <td>0</td>\n",
       "      <td>0</td>\n",
       "      <td>0</td>\n",
       "    </tr>\n",
       "  </tbody>\n",
       "</table>\n",
       "</div>"
      ],
      "text/plain": [
       "                                                Text  10  2  4  6  8\n",
       "0  An adorable romper! Belt and zipper were a lit...   1  0  0  0  0\n",
       "1  I rented this dress for a photo shoot. The the...   1  0  0  0  0\n",
       "2  This hugged in all the right places! It was a ...   1  0  0  0  0\n",
       "3  I rented this for my company's black tie award...   0  0  0  0  1\n",
       "4  I have always been petite in my upper body and...   1  0  0  0  0"
      ]
     },
     "execution_count": 66,
     "metadata": {},
     "output_type": "execute_result"
    }
   ],
   "source": [
    "# Put in dataframe and one-hot encode\n",
    "review_df = pd.DataFrame()\n",
    "review_df['Text'] = review_text\n",
    "review_df['Rating'] = rating\n",
    "\n",
    "one_hot = pd.get_dummies(review_df[\"Rating\"])\n",
    "review_one_hot = pd.DataFrame()\n",
    "review_one_hot = pd.concat([review_df['Text'], one_hot], axis=1)\n",
    "review_one_hot.head()"
   ]
  },
  {
   "cell_type": "code",
   "execution_count": 55,
   "metadata": {},
   "outputs": [],
   "source": [
    "# Defining hyperparameters\n",
    "SEQ_LEN = 128\n",
    "BATCH_SIZE = 128\n",
    "EPOCHS = 5\n",
    "LR = 1e-4"
   ]
  },
  {
   "cell_type": "code",
   "execution_count": 60,
   "metadata": {},
   "outputs": [],
   "source": [
    "# These files must be put in current directory for paths to work\n",
    "# Need to install wget via homebrew before can download pretrained model\n",
    "pretrained_path = 'uncased_L-12_H-768_A-12'\n",
    "config_path = os.path.join(pretrained_path, 'bert_config.json')\n",
    "checkpoint_path = os.path.join(pretrained_path, 'bert_model.ckpt')\n",
    "vocab_path = os.path.join(pretrained_path, 'vocab.txt')\n",
    "\n",
    "# TF_KERAS must be added to environment variables in order to use TPU\n",
    "os.environ['TF_KERAS'] = '1'"
   ]
  },
  {
   "cell_type": "code",
   "execution_count": 62,
   "metadata": {},
   "outputs": [
    {
     "name": "stdout",
     "output_type": "stream",
     "text": [
      "WARNING:tensorflow:From /anaconda3/lib/python3.6/site-packages/tensorflow/python/ops/resource_variable_ops.py:435: colocate_with (from tensorflow.python.framework.ops) is deprecated and will be removed in a future version.\n",
      "Instructions for updating:\n",
      "Colocations handled automatically by placer.\n",
      "WARNING:tensorflow:From /anaconda3/lib/python3.6/site-packages/tensorflow/python/keras/layers/core.py:143: calling dropout (from tensorflow.python.ops.nn_ops) with keep_prob is deprecated and will be removed in a future version.\n",
      "Instructions for updating:\n",
      "Please use `rate` instead of `keep_prob`. Rate should be set to `rate = 1 - keep_prob`.\n"
     ]
    }
   ],
   "source": [
    "# Load Basic Model\n",
    "token_dict = {}\n",
    "with codecs.open(vocab_path, 'r', 'utf8') as reader:\n",
    "    for line in reader:\n",
    "        token = line.strip()\n",
    "        token_dict[token] = len(token_dict)\n",
    "        \n",
    "model = load_trained_model_from_checkpoint(\n",
    "    config_path,\n",
    "    checkpoint_path,\n",
    "    training=True,\n",
    "    trainable=True,\n",
    "    seq_len=SEQ_LEN,\n",
    ")"
   ]
  },
  {
   "cell_type": "code",
   "execution_count": 139,
   "metadata": {},
   "outputs": [
    {
     "data": {
      "text/plain": [
       "192544"
      ]
     },
     "execution_count": 139,
     "metadata": {},
     "output_type": "execute_result"
    }
   ],
   "source": [
    "len(review_processed)"
   ]
  },
  {
   "cell_type": "code",
   "execution_count": 147,
   "metadata": {},
   "outputs": [
    {
     "name": "stderr",
     "output_type": "stream",
     "text": [
      "100%|██████████| 192544/192544 [02:03<00:00, 1557.71it/s]\n"
     ]
    }
   ],
   "source": [
    "# Convert data to Array\n",
    "# Tokenizer class is used for splitting texts and generating indices\n",
    "# Question: do you need to tokenize and encode, or just encode\n",
    "tokenizer = Tokenizer(token_dict)\n",
    "\n",
    "token_list = []\n",
    "for i in tqdm(range(0,len(review_processed))):\n",
    "    tokens = tokenizer.tokenize(review_processed[i])\n",
    "    token_list.append(tokens)"
   ]
  },
  {
   "cell_type": "code",
   "execution_count": 149,
   "metadata": {},
   "outputs": [
    {
     "data": {
      "text/plain": [
       "192544"
      ]
     },
     "execution_count": 149,
     "metadata": {},
     "output_type": "execute_result"
    }
   ],
   "source": [
    "# token_list contains the tokenized version of processed user review text\n",
    "len(token_list)"
   ]
  },
  {
   "cell_type": "code",
   "execution_count": 159,
   "metadata": {},
   "outputs": [
    {
     "name": "stderr",
     "output_type": "stream",
     "text": [
      "100%|██████████| 192544/192544 [20:51<00:00, 153.79it/s]  \n"
     ]
    }
   ],
   "source": [
    "token_indices, review_indices = [], []\n",
    "for j in tqdm(range(0,len(token_list))):\n",
    "    for k in range(0,len(token_list[j])):\n",
    "        ids, segments = tokenizer.encode(token_list[j][k], second=None, max_len=SEQ_LEN)\n",
    "        token_indices.append(ids)\n",
    "        review_indices.append(segments)"
   ]
  },
  {
   "cell_type": "code",
   "execution_count": 161,
   "metadata": {},
   "outputs": [
    {
     "data": {
      "text/plain": [
       "12295617"
      ]
     },
     "execution_count": 161,
     "metadata": {},
     "output_type": "execute_result"
    }
   ],
   "source": [
    "# the shape and data within these lists seem wrong -- John (thoughts)?\n",
    "len(token_indices)\n",
    "len(review_indices)"
   ]
  },
  {
   "cell_type": "code",
   "execution_count": 173,
   "metadata": {},
   "outputs": [],
   "source": [
    "# Build custom model\n",
    "# Had to hard code the first argument because it is a list not array (review_processed)\n",
    "# Again, unsure of whether it is the right shape to put here or what right shape should be\n",
    "inputs = model.inputs[:2]\n",
    "# NSP > Next Sentence Prediction Dense Layer\n",
    "dense = model.get_layer('NSP-Dense').output\n",
    "outputs = keras.layers.Dense(units=5, activation='softmax')(dense)\n",
    "decay_steps, warmup_steps = calc_train_steps(\n",
    "    192544,\n",
    "    batch_size = BATCH_SIZE,\n",
    "    epochs = EPOCHS,)\n",
    "\n",
    "model = keras.models.Model(inputs, outputs)\n",
    "model.compile(\n",
    "    AdamWarmup(decay_steps=decay_steps, warmup_steps=warmup_steps, lr=LR),\n",
    "    loss='sparse_categorical_crossentropy',\n",
    "    metrics=['sparse_categorical_accuracy'])"
   ]
  },
  {
   "cell_type": "code",
   "execution_count": null,
   "metadata": {},
   "outputs": [],
   "source": []
  }
 ],
 "metadata": {
  "kernelspec": {
   "display_name": "Python 3",
   "language": "python",
   "name": "python3"
  },
  "language_info": {
   "codemirror_mode": {
    "name": "ipython",
    "version": 3
   },
   "file_extension": ".py",
   "mimetype": "text/x-python",
   "name": "python",
   "nbconvert_exporter": "python",
   "pygments_lexer": "ipython3",
   "version": "3.6.4"
  }
 },
 "nbformat": 4,
 "nbformat_minor": 2
}
